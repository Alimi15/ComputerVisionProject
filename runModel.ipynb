{
 "cells": [
  {
   "cell_type": "code",
   "execution_count": null,
   "metadata": {},
   "outputs": [],
   "source": [
    "import cv2\n",
    "from keras.models import load_model\n",
    "import numpy as np\n",
    "import time\n",
    "import camera_rps\n",
    "import manual_rps\n",
    "model = load_model('keras_model.h5')\n",
    "cap = cv2.VideoCapture(0)\n",
    "data = np.ndarray(shape=(1, 224, 224, 3), dtype=np.float32)\n",
    "startTime = time.time()\n",
    "integerTime = 0\n",
    "userWins = 0\n",
    "computerWins = 0\n",
    "\n",
    "while True: \n",
    "    ret, frame = cap.read()\n",
    "    resized_frame = cv2.resize(frame, (224, 224), interpolation = cv2.INTER_AREA)\n",
    "    image_np = np.array(resized_frame)\n",
    "    normalized_image = (image_np.astype(np.float32) / 127.0) - 1 # Normalize the image\n",
    "    data[0] = normalized_image\n",
    "    prediction = model.predict(data)\n",
    "    cv2.imshow('frame', frame)\n",
    "    #print(prediction)\n",
    "    timeSinceStart = time.time() - startTime\n",
    "    #print(timeSinceStart)\n",
    "    if integerTime != int(timeSinceStart):\n",
    "        integerTime = int(timeSinceStart)\n",
    "        if integerTime % 5 == 0:\n",
    "            user_choice = camera_rps.get_prediction(prediction)\n",
    "            print(user_choice)\n",
    "            computer_choice = manual_rps.get_computer_choice()\n",
    "            print(computer_choice)\n",
    "            win = manual_rps.get_winner(computer_choice, user_choice)\n",
    "            print(win)\n",
    "            if win == \"User wins\":\n",
    "                userWins += 1\n",
    "            elif win == \"Computer wins\":\n",
    "                computerWins += 1\n",
    "    if userWins == 3 or computerWins == 3:\n",
    "        print(f\"{win}: {userWins}-{computerWins}\")\n",
    "        break\n",
    "\n",
    "    # Press q to close the window\n",
    "    if cv2.waitKey(1) & 0xFF == ord('q'):\n",
    "        break\n",
    "            \n",
    "# After the loop release the cap object\n",
    "cap.release()\n",
    "# Destroy all the windows\n",
    "cv2.destroyAllWindows()"
   ]
  },
  {
   "cell_type": "code",
   "execution_count": null,
   "metadata": {},
   "outputs": [],
   "source": []
  }
 ],
 "metadata": {
  "kernelspec": {
   "display_name": "Python 3.9.12 ('cvrps')",
   "language": "python",
   "name": "python3"
  },
  "language_info": {
   "codemirror_mode": {
    "name": "ipython",
    "version": 3
   },
   "file_extension": ".py",
   "mimetype": "text/x-python",
   "name": "python",
   "nbconvert_exporter": "python",
   "pygments_lexer": "ipython3",
   "version": "3.9.12"
  },
  "orig_nbformat": 4,
  "vscode": {
   "interpreter": {
    "hash": "2ff1320c286a3d0c2e06f7842f174cfa76c84665e6947d2d09eb94babf0a6c64"
   }
  }
 },
 "nbformat": 4,
 "nbformat_minor": 2
}
